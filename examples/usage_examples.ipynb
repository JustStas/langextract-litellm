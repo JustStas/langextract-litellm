{
 "cells": [
  {
   "cell_type": "code",
   "execution_count": 2,
   "id": "528a0ea8",
   "metadata": {},
   "outputs": [],
   "source": [
    "import os\n",
    "import langextract as lx\n",
    "from langextract_litellm import LiteLLMLanguageModel\n",
    "import textwrap"
   ]
  },
  {
   "cell_type": "code",
   "execution_count": 3,
   "id": "52045f33",
   "metadata": {},
   "outputs": [],
   "source": [
    "prompt = textwrap.dedent(\"\"\"\\\n",
    "    Extract characters, emotions, and relationships in order of appearance.\n",
    "    Use exact text for extractions. Do not paraphrase or overlap entities.\n",
    "    Provide meaningful attributes for each entity to add context.\"\"\")\n",
    "\n",
    "# 2. Provide a high-quality example to guide the model\n",
    "examples = [\n",
    "    lx.data.ExampleData(\n",
    "        text=\"ROMEO. But soft! What light through yonder window breaks? It is the east, and Juliet is the sun.\",\n",
    "        extractions=[\n",
    "            lx.data.Extraction(\n",
    "                extraction_class=\"character\",\n",
    "                extraction_text=\"ROMEO\",\n",
    "                attributes={\"emotional_state\": \"wonder\"}\n",
    "            ),\n",
    "            lx.data.Extraction(\n",
    "                extraction_class=\"emotion\",\n",
    "                extraction_text=\"But soft!\",\n",
    "                attributes={\"feeling\": \"gentle awe\"}\n",
    "            ),\n",
    "            lx.data.Extraction(\n",
    "                extraction_class=\"relationship\",\n",
    "                extraction_text=\"Juliet is the sun\",\n",
    "                attributes={\"type\": \"metaphor\"}\n",
    "            ),\n",
    "        ]\n",
    "    )\n",
    "]\n",
    "input_text = \"Lady Juliet gazed longingly at the stars, her heart aching for Romeo\""
   ]
  },
  {
   "cell_type": "code",
   "execution_count": 4,
   "id": "b8e0155c",
   "metadata": {},
   "outputs": [
    {
     "ename": "InferenceConfigError",
     "evalue": "Failed to create provider LiteLLMLanguageModel: Can't instantiate abstract class LiteLLMLanguageModel with abstract method infer",
     "output_type": "error",
     "traceback": [
      "\u001b[0;31m---------------------------------------------------------------------------\u001b[0m",
      "\u001b[0;31mTypeError\u001b[0m                                 Traceback (most recent call last)",
      "File \u001b[0;32m~/Documents/langextract-litellm/.venv/lib/python3.10/site-packages/langextract/factory.py:154\u001b[0m, in \u001b[0;36mcreate_model\u001b[0;34m(config, examples, use_schema_constraints, fence_output, return_fence_output)\u001b[0m\n\u001b[1;32m    153\u001b[0m \u001b[38;5;28;01mtry\u001b[39;00m:\n\u001b[0;32m--> 154\u001b[0m   model \u001b[38;5;241m=\u001b[39m \u001b[43mprovider_class\u001b[49m\u001b[43m(\u001b[49m\u001b[38;5;241;43m*\u001b[39;49m\u001b[38;5;241;43m*\u001b[39;49m\u001b[43mkwargs\u001b[49m\u001b[43m)\u001b[49m\n\u001b[1;32m    155\u001b[0m   \u001b[38;5;28;01mif\u001b[39;00m return_fence_output:\n",
      "\u001b[0;31mTypeError\u001b[0m: Can't instantiate abstract class LiteLLMLanguageModel with abstract method infer",
      "\nThe above exception was the direct cause of the following exception:\n",
      "\u001b[0;31mInferenceConfigError\u001b[0m                      Traceback (most recent call last)",
      "Cell \u001b[0;32mIn[4], line 5\u001b[0m\n\u001b[1;32m      1\u001b[0m config \u001b[38;5;241m=\u001b[39m lx\u001b[38;5;241m.\u001b[39mfactory\u001b[38;5;241m.\u001b[39mModelConfig(\n\u001b[1;32m      2\u001b[0m     model_id\u001b[38;5;241m=\u001b[39m\u001b[38;5;124mf\u001b[39m\u001b[38;5;124m\"\u001b[39m\u001b[38;5;124mlitellm/azure/gpt-4o\u001b[39m\u001b[38;5;124m\"\u001b[39m,\n\u001b[1;32m      3\u001b[0m     provider\u001b[38;5;241m=\u001b[39m\u001b[38;5;124m\"\u001b[39m\u001b[38;5;124mLiteLLMLanguageModel\u001b[39m\u001b[38;5;124m\"\u001b[39m,\n\u001b[1;32m      4\u001b[0m )\n\u001b[0;32m----> 5\u001b[0m model \u001b[38;5;241m=\u001b[39m \u001b[43mlx\u001b[49m\u001b[38;5;241;43m.\u001b[39;49m\u001b[43mfactory\u001b[49m\u001b[38;5;241;43m.\u001b[39;49m\u001b[43mcreate_model\u001b[49m\u001b[43m(\u001b[49m\u001b[43mconfig\u001b[49m\u001b[43m)\u001b[49m\n\u001b[1;32m      6\u001b[0m results \u001b[38;5;241m=\u001b[39m \u001b[38;5;28mlist\u001b[39m(model\u001b[38;5;241m.\u001b[39minfer([prompt]))\n\u001b[1;32m      7\u001b[0m results\n",
      "File \u001b[0;32m~/Documents/langextract-litellm/.venv/lib/python3.10/site-packages/langextract/factory.py:159\u001b[0m, in \u001b[0;36mcreate_model\u001b[0;34m(config, examples, use_schema_constraints, fence_output, return_fence_output)\u001b[0m\n\u001b[1;32m    157\u001b[0m   \u001b[38;5;28;01mreturn\u001b[39;00m model\n\u001b[1;32m    158\u001b[0m \u001b[38;5;28;01mexcept\u001b[39;00m (\u001b[38;5;167;01mValueError\u001b[39;00m, \u001b[38;5;167;01mTypeError\u001b[39;00m) \u001b[38;5;28;01mas\u001b[39;00m e:\n\u001b[0;32m--> 159\u001b[0m   \u001b[38;5;28;01mraise\u001b[39;00m exceptions\u001b[38;5;241m.\u001b[39mInferenceConfigError(\n\u001b[1;32m    160\u001b[0m       \u001b[38;5;124mf\u001b[39m\u001b[38;5;124m\"\u001b[39m\u001b[38;5;124mFailed to create provider \u001b[39m\u001b[38;5;132;01m{\u001b[39;00mprovider_class\u001b[38;5;241m.\u001b[39m\u001b[38;5;18m__name__\u001b[39m\u001b[38;5;132;01m}\u001b[39;00m\u001b[38;5;124m: \u001b[39m\u001b[38;5;132;01m{\u001b[39;00me\u001b[38;5;132;01m}\u001b[39;00m\u001b[38;5;124m\"\u001b[39m\n\u001b[1;32m    161\u001b[0m   ) \u001b[38;5;28;01mfrom\u001b[39;00m\u001b[38;5;250m \u001b[39m\u001b[38;5;21;01me\u001b[39;00m\n",
      "\u001b[0;31mInferenceConfigError\u001b[0m: Failed to create provider LiteLLMLanguageModel: Can't instantiate abstract class LiteLLMLanguageModel with abstract method infer"
     ]
    }
   ],
   "source": [
    "config = lx.factory.ModelConfig(\n",
    "    model_id=f\"litellm/azure/gpt-4o\",\n",
    "    provider=\"LiteLLMLanguageModel\",\n",
    ")\n",
    "model = lx.factory.create_model(config)\n",
    "results = list(model.infer([prompt]))\n",
    "results"
   ]
  },
  {
   "cell_type": "code",
   "execution_count": null,
   "id": "6215a84d",
   "metadata": {},
   "outputs": [],
   "source": []
  }
 ],
 "metadata": {
  "kernelspec": {
   "display_name": "Python 3",
   "language": "python",
   "name": "python3"
  },
  "language_info": {
   "codemirror_mode": {
    "name": "ipython",
    "version": 3
   },
   "file_extension": ".py",
   "mimetype": "text/x-python",
   "name": "python",
   "nbconvert_exporter": "python",
   "pygments_lexer": "ipython3",
   "version": "3.10.16"
  }
 },
 "nbformat": 4,
 "nbformat_minor": 5
}
